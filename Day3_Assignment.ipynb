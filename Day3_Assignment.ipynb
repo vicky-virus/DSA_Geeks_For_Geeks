{
 "cells": [
  {
   "cell_type": "code",
   "execution_count": 1,
   "metadata": {},
   "outputs": [
    {
     "data": {
      "text/plain": [
       "2.5"
      ]
     },
     "execution_count": 1,
     "metadata": {},
     "output_type": "execute_result"
    }
   ],
   "source": [
    "#Operators\n",
    "\n",
    "#Arithmetic: +, -, *, /, %, // Floor Division, **exponentiation\n",
    "\n",
    "5/2"
   ]
  },
  {
   "cell_type": "code",
   "execution_count": 2,
   "metadata": {},
   "outputs": [
    {
     "data": {
      "text/plain": [
       "2"
      ]
     },
     "execution_count": 2,
     "metadata": {},
     "output_type": "execute_result"
    }
   ],
   "source": [
    "5//2      #floor division"
   ]
  },
  {
   "cell_type": "code",
   "execution_count": 3,
   "metadata": {},
   "outputs": [
    {
     "data": {
      "text/plain": [
       "1"
      ]
     },
     "execution_count": 3,
     "metadata": {},
     "output_type": "execute_result"
    }
   ],
   "source": [
    "5%2         #rem."
   ]
  },
  {
   "cell_type": "code",
   "execution_count": 4,
   "metadata": {},
   "outputs": [
    {
     "data": {
      "text/plain": [
       "True"
      ]
     },
     "execution_count": 4,
     "metadata": {},
     "output_type": "execute_result"
    }
   ],
   "source": [
    "#Relational: <, <=, >, >=, !=, ==\n",
    "2<3"
   ]
  },
  {
   "cell_type": "code",
   "execution_count": 5,
   "metadata": {},
   "outputs": [
    {
     "data": {
      "text/plain": [
       "False"
      ]
     },
     "execution_count": 5,
     "metadata": {},
     "output_type": "execute_result"
    }
   ],
   "source": [
    "2>=3"
   ]
  },
  {
   "cell_type": "code",
   "execution_count": 6,
   "metadata": {},
   "outputs": [
    {
     "name": "stdout",
     "output_type": "stream",
     "text": [
      "False\n",
      "True\n",
      "True\n"
     ]
    }
   ],
   "source": [
    "#logical: and, or, not(unary operator)\n",
    "s = True\n",
    "t = False\n",
    "print(s and t)\n",
    "print(s or t)\n",
    "print(not t)"
   ]
  },
  {
   "cell_type": "code",
   "execution_count": 7,
   "metadata": {},
   "outputs": [
    {
     "name": "stdout",
     "output_type": "stream",
     "text": [
      "0\n",
      "6\n"
     ]
    }
   ],
   "source": [
    "#Bitwise (work with 0 and 1 only): &, ||,\n",
    "s=2         #0010\n",
    "t=4         #0100\n",
    "print(s&t)  #0000\n",
    "print(s | t)#0110"
   ]
  },
  {
   "cell_type": "code",
   "execution_count": 8,
   "metadata": {},
   "outputs": [],
   "source": [
    "#membership: in, not in"
   ]
  },
  {
   "cell_type": "code",
   "execution_count": 9,
   "metadata": {},
   "outputs": [
    {
     "name": "stdout",
     "output_type": "stream",
     "text": [
      "True\n",
      "False\n"
     ]
    }
   ],
   "source": [
    "#identity: is, is not\n",
    "a = 4\n",
    "b = 4\n",
    "print(a is b)\n",
    "print(a is not b)"
   ]
  },
  {
   "cell_type": "markdown",
   "metadata": {},
   "source": [
    "CONDITIONAL EXECUTION"
   ]
  },
  {
   "cell_type": "code",
   "execution_count": 10,
   "metadata": {},
   "outputs": [
    {
     "name": "stdout",
     "output_type": "stream",
     "text": [
      "5\n",
      "5 is positive no.\n"
     ]
    }
   ],
   "source": [
    "x = int(input())\n",
    "if x>0:\n",
    "    print(x, \"is positive no.\")\n",
    "else:\n",
    "    print(x, \"is negative no.\")"
   ]
  },
  {
   "cell_type": "code",
   "execution_count": 11,
   "metadata": {},
   "outputs": [
    {
     "name": "stdout",
     "output_type": "stream",
     "text": [
      "5 is odd.\n"
     ]
    }
   ],
   "source": [
    "x=5\n",
    "if x%2==0:\n",
    "    print(x, \"is even.\")\n",
    "else:\n",
    "    print(x, \"is odd.\")"
   ]
  },
  {
   "cell_type": "code",
   "execution_count": 12,
   "metadata": {},
   "outputs": [],
   "source": [
    "x=2\n",
    "if x<0:\n",
    "    print(x)"
   ]
  },
  {
   "cell_type": "code",
   "execution_count": 13,
   "metadata": {},
   "outputs": [
    {
     "name": "stdout",
     "output_type": "stream",
     "text": [
      "Enter the value X: \n",
      "55\n",
      "55 is greater than 35.\n"
     ]
    }
   ],
   "source": [
    "#chained conditionals\n",
    "print(\"Enter the value X: \")\n",
    "x = int(input())\n",
    "if x>35:\n",
    "    print(x, \"is greater than 35.\")\n",
    "elif x<35:\n",
    "    print(x, \"is less then 35.\")\n",
    "else:\n",
    "    print(x, \"is equal to 35.\")\n"
   ]
  },
  {
   "cell_type": "code",
   "execution_count": 14,
   "metadata": {},
   "outputs": [
    {
     "name": "stdout",
     "output_type": "stream",
     "text": [
      "55\n",
      "55  is greater than 35.\n"
     ]
    }
   ],
   "source": [
    "# Nested Condition\n",
    "x = int(input())\n",
    "if x<35:\n",
    "    print(x,\" is less than 35.\")\n",
    "else:\n",
    "    if x==35:\n",
    "        print(x,\" is 35.\")\n",
    "    else:\n",
    "        print(x,\" is greater than 35.\")"
   ]
  },
  {
   "cell_type": "code",
   "execution_count": 15,
   "metadata": {},
   "outputs": [
    {
     "name": "stdout",
     "output_type": "stream",
     "text": [
      "1\n",
      "2\n",
      "3\n",
      "4\n",
      "5\n"
     ]
    }
   ],
   "source": [
    "# Break\n",
    "m= [1,2,3,4,5] #list\n",
    "n = (1,2,3,4,5) #tuple\n",
    "for i in n:\n",
    "    #if(i==4):\n",
    "        #print(i)\n",
    "        #break\n",
    "    print(i)"
   ]
  },
  {
   "cell_type": "code",
   "execution_count": 16,
   "metadata": {},
   "outputs": [
    {
     "name": "stdout",
     "output_type": "stream",
     "text": [
      "L\n",
      "e\n",
      "t\n",
      "s\n",
      " \n",
      "U\n",
      "p\n",
      "g\n",
      "r\n",
      "a\n",
      "d\n",
      "e\n"
     ]
    }
   ],
   "source": [
    "str1 = \"Lets Upgrade\"\n",
    "for i in str1:\n",
    "    print(i)"
   ]
  },
  {
   "cell_type": "code",
   "execution_count": 17,
   "metadata": {},
   "outputs": [],
   "source": [
    "#continue\n",
    "n = (1,2,3,4,5)\n",
    "\n"
   ]
  },
  {
   "cell_type": "code",
   "execution_count": 18,
   "metadata": {},
   "outputs": [
    {
     "name": "stdout",
     "output_type": "stream",
     "text": [
      "2\n",
      "4\n",
      "6\n",
      "8\n",
      "10\n",
      "12\n",
      "14\n",
      "16\n",
      "18\n"
     ]
    }
   ],
   "source": [
    "#program to display even numbers in given range\n",
    "for i in range(2, 20, 2):\n",
    "    print(i)"
   ]
  },
  {
   "cell_type": "code",
   "execution_count": 19,
   "metadata": {},
   "outputs": [
    {
     "name": "stdout",
     "output_type": "stream",
     "text": [
      "1\n",
      "2\n",
      "3\n",
      "4\n",
      "5\n"
     ]
    }
   ],
   "source": [
    "#while\n",
    "i=1\n",
    "while i<=5:\n",
    "    print(i)\n",
    "    i=i+1  #i++ doesn't exists in python."
   ]
  },
  {
   "cell_type": "code",
   "execution_count": 20,
   "metadata": {},
   "outputs": [
    {
     "name": "stdout",
     "output_type": "stream",
     "text": [
      "M\n",
      "a\n",
      "c\n",
      "h\n",
      "i\n",
      "n\n",
      "e\n",
      " \n",
      "L\n",
      "e\n",
      "a\n",
      "r\n",
      "n\n",
      "i\n",
      "n\n",
      "g\n",
      "----------------------\n"
     ]
    },
    {
     "data": {
      "text/plain": [
       "'a'"
      ]
     },
     "execution_count": 20,
     "metadata": {},
     "output_type": "execute_result"
    }
   ],
   "source": [
    "s = \"Machine Learning\"\n",
    "i=0\n",
    "while i<len(s):\n",
    "    d=s[i]\n",
    "    print(d)\n",
    "    i=i+1\n",
    "print(\"----------------------\")\n",
    "s[10]"
   ]
  },
  {
   "cell_type": "markdown",
   "metadata": {},
   "source": [
    "**ASSIGNMENT 1 Day 3**\n",
    "\n",
    "WAP for taking one number a input and then using if elif else concept, assign a grade to the input number from\n",
    "    A, B, C, D, E, Fail\n",
    "    \n",
    "    Example: I/P - 97\n",
    "             O/P - A"
   ]
  },
  {
   "cell_type": "code",
   "execution_count": 21,
   "metadata": {},
   "outputs": [
    {
     "name": "stdout",
     "output_type": "stream",
     "text": [
      "Enter your Expected marks(Between 1 and 100): \n",
      "98\n",
      "*********Congrats************\n",
      "Your grade is A.\n"
     ]
    }
   ],
   "source": [
    "print(\"Enter your Expected marks(Between 1 and 100): \")\n",
    "inserted_number = int(input())\n",
    "if(inserted_number<30):\n",
    "    print(\"Sorry, You are Failed!\")\n",
    "elif(inserted_number>100):\n",
    "    print(\"Don't Play bluff Here.\")\n",
    "else:\n",
    "    if(inserted_number>=30 and inserted_number<45):\n",
    "        print(\"Your grade is E.\")\n",
    "    elif (inserted_number>=45 and inserted_number<55):\n",
    "        print(\"Your grade is D.\")\n",
    "    elif (inserted_number>=55 and inserted_number<70):\n",
    "        print(\"Your grade is C.\")\n",
    "    elif (inserted_number>=70 and inserted_number<85):\n",
    "        print(\"Your grade is B.\")\n",
    "    else:\n",
    "        print(\"*********Congrats************\")\n",
    "        print(\"Your grade is A.\")\n",
    "    "
   ]
  },
  {
   "cell_type": "markdown",
   "metadata": {},
   "source": [
    "**ASSIGNMENT 2 Day 3**"
   ]
  },
  {
   "cell_type": "code",
   "execution_count": 22,
   "metadata": {},
   "outputs": [
    {
     "name": "stdout",
     "output_type": "stream",
     "text": [
      "Enter your expected score between 1 and 250: 56\n",
      "Computer's Prediction:  119\n",
      "You don't watch that match! :P\n"
     ]
    }
   ],
   "source": [
    "from random import randint\n",
    "predicted_score = int(input(\"Enter your expected score between 1 and 250: \"))\n",
    "if predicted_score <1 or predicted_score>250:\n",
    "    print(\"Not in Specified range. TRY AGAIN!\")\n",
    "else:\n",
    "    random_score = randint(1,250)\n",
    "    diff = abs(predicted_score - random_score)\n",
    "    print(\"Computer's Prediction: \", random_score)\n",
    "    if(diff in range(-10,10)):\n",
    "        print(\"Close By, You are true indian fan!!!\")\n",
    "    else:\n",
    "        print(\"You don't watch that match! :P\")"
   ]
  },
  {
   "cell_type": "code",
   "execution_count": null,
   "metadata": {},
   "outputs": [],
   "source": []
  }
 ],
 "metadata": {
  "kernelspec": {
   "display_name": "Python 3",
   "language": "python",
   "name": "python3"
  },
  "language_info": {
   "codemirror_mode": {
    "name": "ipython",
    "version": 3
   },
   "file_extension": ".py",
   "mimetype": "text/x-python",
   "name": "python",
   "nbconvert_exporter": "python",
   "pygments_lexer": "ipython3",
   "version": "3.7.3"
  }
 },
 "nbformat": 4,
 "nbformat_minor": 2
}
