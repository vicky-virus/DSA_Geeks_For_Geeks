{
 "cells": [
  {
   "cell_type": "code",
   "execution_count": 1,
   "metadata": {},
   "outputs": [],
   "source": [
    "#------------------------------------Day 1 Assignment--------------------------------#\n",
    "# Name: Niraj Kumar\n",
    "# Email: csnirajvicky@gmail.com\n",
    "# Mob. No: 9110122836\n"
   ]
  },
  {
   "cell_type": "code",
   "execution_count": 2,
   "metadata": {},
   "outputs": [],
   "source": [
    "#List and its default functions\n",
    "#\n",
    "#\n",
    "#   List: Lists are just like arrays declared in other languages. They need not to be homogeneous in nature which makes\n",
    "#   it more powerful tool in python.\n",
    "#\n",
    "#   features of list: 1. Mutable in nature hence they can be altered even after their creation.\n",
    "#                 2. List in python are ordered and have a definite count. The elements in a list are indexed according to \n",
    "#                    a definite sequence and the indexing of a list is done with 0 being the first index.\n",
    "#                 3. In a list dublicate elements are created or allowed just because each element having its own distinct \n",
    "#                    place and credibility.\n",
    "#                 4. Lists are a useful tool for preserving a sequence of data and further iterating over it.\n",
    "#\n",
    "#Source: Geeksforgeeks\n",
    "\n"
   ]
  },
  {
   "cell_type": "code",
   "execution_count": 3,
   "metadata": {},
   "outputs": [
    {
     "name": "stdout",
     "output_type": "stream",
     "text": [
      "list is blank now.\n",
      "[]\n"
     ]
    }
   ],
   "source": [
    "#List Creation\n",
    "List = []\n",
    "print(\"list is blank now.\")\n",
    "print(List)"
   ]
  },
  {
   "cell_type": "code",
   "execution_count": 4,
   "metadata": {},
   "outputs": [
    {
     "name": "stdout",
     "output_type": "stream",
     "text": [
      "['Niraj', 1, 3.14, [2, 'we have done it again ', 3]]\n"
     ]
    }
   ],
   "source": [
    "#Creating a list and printing all elements of it.\n",
    "list1 = [\"Niraj\",1,3.14,[2,\"we have done it again \",3]]\n",
    "print(list1)"
   ]
  },
  {
   "cell_type": "code",
   "execution_count": 5,
   "metadata": {},
   "outputs": [
    {
     "name": "stdout",
     "output_type": "stream",
     "text": [
      "[2, 'we have done it again ', 3]\n"
     ]
    }
   ],
   "source": [
    "#printing Specific element of list like 4th element(has index 3).\n",
    "print(list1[3])"
   ]
  },
  {
   "cell_type": "code",
   "execution_count": 6,
   "metadata": {},
   "outputs": [
    {
     "name": "stdout",
     "output_type": "stream",
     "text": [
      "we have done it again \n"
     ]
    }
   ],
   "source": [
    "#to print any element of nested list\n",
    "print(list1[3][1])"
   ]
  },
  {
   "cell_type": "code",
   "execution_count": 7,
   "metadata": {},
   "outputs": [
    {
     "name": "stdout",
     "output_type": "stream",
     "text": [
      "a\n"
     ]
    }
   ],
   "source": [
    "# Nested List\n",
    "nested_list = [\"Happy\", [2,0,1,5]]\n",
    "print(nested_list[0][1])"
   ]
  },
  {
   "cell_type": "code",
   "execution_count": 8,
   "metadata": {},
   "outputs": [
    {
     "name": "stdout",
     "output_type": "stream",
     "text": [
      "y\n"
     ]
    }
   ],
   "source": [
    "#negative indexing\n",
    "print(nested_list[-2][-1])"
   ]
  },
  {
   "cell_type": "code",
   "execution_count": 9,
   "metadata": {},
   "outputs": [
    {
     "name": "stdout",
     "output_type": "stream",
     "text": [
      "['Happy', [2, 0, 1, 5], 'dog']\n"
     ]
    }
   ],
   "source": [
    "#Default Functions of List\n",
    "#Adding Element to a List\n",
    "#list.append(item): The append() method adds an item to the end of the list.\n",
    "nested_list.append('dog')\n",
    "print(nested_list)"
   ]
  },
  {
   "cell_type": "code",
   "execution_count": 10,
   "metadata": {},
   "outputs": [
    {
     "name": "stdout",
     "output_type": "stream",
     "text": [
      "Language List:  ['French', 'English', 'German', 'Spanish', 'Portuguese']\n"
     ]
    }
   ],
   "source": [
    "#list.extend(item): The extend() extends the list by adding all items of a list (passed as an argument) to the end.\n",
    "# language list\n",
    "language = ['French', 'English', 'German']\n",
    "# another list of language\n",
    "language1 = ['Spanish', 'Portuguese']\n",
    "language.extend(language1)\n",
    "# Extended List\n",
    "print('Language List: ', language)"
   ]
  },
  {
   "cell_type": "code",
   "execution_count": 11,
   "metadata": {},
   "outputs": [
    {
     "name": "stdout",
     "output_type": "stream",
     "text": [
      "a =  [1, 2, 3, 4]\n"
     ]
    }
   ],
   "source": [
    "#We can also add items of a list to another list using + or += operator.\n",
    "a = [1, 2]\n",
    "b = [3, 4]\n",
    "a += b\n",
    "print('a = ', a)"
   ]
  },
  {
   "cell_type": "code",
   "execution_count": 12,
   "metadata": {},
   "outputs": [
    {
     "name": "stdout",
     "output_type": "stream",
     "text": [
      "Updated List:  ['a', 'e', 'i', 'o', 'u']\n"
     ]
    }
   ],
   "source": [
    "#list.inser(index,element): The insert() method inserts an element to the list at a given index.\n",
    "#           index - position where an element needs to be inserted.\n",
    "#           element - this is the element to be inserted in the list.\n",
    "\n",
    "# vowel list\n",
    "vowel = ['a', 'e', 'i', 'u']\n",
    "# inserting element to list at 4th position\n",
    "vowel.insert(3, 'o')\n",
    "print('Updated List: ', vowel)"
   ]
  },
  {
   "cell_type": "code",
   "execution_count": 13,
   "metadata": {},
   "outputs": [
    {
     "name": "stdout",
     "output_type": "stream",
     "text": [
      "Updated List:  [{1, 2}, (3, 4), [5, 6, 7]]\n"
     ]
    }
   ],
   "source": [
    "#Inserting a Tuple (as an Element) to the List\n",
    "\n",
    "mixed_list = [{1, 2}, [5, 6, 7]]\n",
    "# number tuple\n",
    "number_tuple = (3, 4)\n",
    "# inserting tuple to the list\n",
    "mixed_list.insert(1, number_tuple)\n",
    "print('Updated List: ', mixed_list)"
   ]
  },
  {
   "cell_type": "code",
   "execution_count": 14,
   "metadata": {},
   "outputs": [
    {
     "name": "stdout",
     "output_type": "stream",
     "text": [
      "Updated animals list:  ['cat', 'dog', 'Haathi']\n"
     ]
    }
   ],
   "source": [
    "#list.remove(element): The remove() method removes the first matching element (which is passed as an argument) from the list.\n",
    "#          The remove() method takes a single element as an argument and removes it from the list.\n",
    "#          If the element doesn't exist, it throws ValueError: list.remove(x): x not in list exception.\n",
    "\n",
    "# animals list\n",
    "animals = ['cat', 'dog', 'rabbit', 'Haathi']\n",
    "# 'rabbit' is removed\n",
    "animals.remove('rabbit')\n",
    "# Updated animals List\n",
    "print('Updated animals list: ', animals)"
   ]
  },
  {
   "cell_type": "code",
   "execution_count": 15,
   "metadata": {},
   "outputs": [
    {
     "name": "stdout",
     "output_type": "stream",
     "text": [
      "Updated animals list:  ['cat', 'dog', 'haathi', 'dog']\n"
     ]
    }
   ],
   "source": [
    "#Note: If a list contains duplicate elements, the remove() method only removes the first matching element.\n",
    "\n",
    "# animals list\n",
    "animals = ['cat', 'dog', 'dog', 'haathi', 'dog']\n",
    "# 'dog' is removed\n",
    "animals.remove('dog')\n",
    "\n",
    "# Updated animals list\n",
    "print('Updated animals list: ', animals)"
   ]
  },
  {
   "cell_type": "code",
   "execution_count": 16,
   "metadata": {},
   "outputs": [
    {
     "ename": "ValueError",
     "evalue": "list.remove(x): x not in list",
     "output_type": "error",
     "traceback": [
      "\u001b[1;31m---------------------------------------------------------------------------\u001b[0m",
      "\u001b[1;31mValueError\u001b[0m                                Traceback (most recent call last)",
      "\u001b[1;32m<ipython-input-16-e46a96473a24>\u001b[0m in \u001b[0;36m<module>\u001b[1;34m\u001b[0m\n\u001b[0;32m      4\u001b[0m \u001b[0manimals\u001b[0m \u001b[1;33m=\u001b[0m \u001b[1;33m[\u001b[0m\u001b[1;34m'cat'\u001b[0m\u001b[1;33m,\u001b[0m \u001b[1;34m'dog'\u001b[0m\u001b[1;33m,\u001b[0m \u001b[1;34m'rabbit'\u001b[0m\u001b[1;33m,\u001b[0m \u001b[1;34m'Haathi'\u001b[0m\u001b[1;33m]\u001b[0m\u001b[1;33m\u001b[0m\u001b[1;33m\u001b[0m\u001b[0m\n\u001b[0;32m      5\u001b[0m \u001b[1;31m# Deleting 'fish' element\u001b[0m\u001b[1;33m\u001b[0m\u001b[1;33m\u001b[0m\u001b[1;33m\u001b[0m\u001b[0m\n\u001b[1;32m----> 6\u001b[1;33m \u001b[0manimals\u001b[0m\u001b[1;33m.\u001b[0m\u001b[0mremove\u001b[0m\u001b[1;33m(\u001b[0m\u001b[1;34m'fish'\u001b[0m\u001b[1;33m)\u001b[0m\u001b[1;33m\u001b[0m\u001b[1;33m\u001b[0m\u001b[0m\n\u001b[0m\u001b[0;32m      7\u001b[0m \u001b[1;31m# Updated animals List\u001b[0m\u001b[1;33m\u001b[0m\u001b[1;33m\u001b[0m\u001b[1;33m\u001b[0m\u001b[0m\n\u001b[0;32m      8\u001b[0m \u001b[0mprint\u001b[0m\u001b[1;33m(\u001b[0m\u001b[1;34m'Updated animals list: '\u001b[0m\u001b[1;33m,\u001b[0m \u001b[0manimals\u001b[0m\u001b[1;33m)\u001b[0m\u001b[1;33m\u001b[0m\u001b[1;33m\u001b[0m\u001b[0m\n",
      "\u001b[1;31mValueError\u001b[0m: list.remove(x): x not in list"
     ]
    }
   ],
   "source": [
    "#Deleting element that doesn't exist: throw an error called ValueError: list.remove(x): x not in list.\n",
    "\n",
    "# animals list\n",
    "animals = ['cat', 'dog', 'rabbit', 'Haathi']\n",
    "# Deleting 'fish' element\n",
    "animals.remove('fish')\n",
    "# Updated animals List\n",
    "print('Updated animals list: ', animals)"
   ]
  },
  {
   "cell_type": "code",
   "execution_count": 17,
   "metadata": {},
   "outputs": [
    {
     "name": "stdout",
     "output_type": "stream",
     "text": [
      "Return Value: French\n",
      "Updated List: ['Python', 'Java', 'C++', 'C']\n",
      "When index is not passed:\n",
      "Return Value: C\n",
      "Updated List: ['Python', 'Java', 'C++', 'Ruby']\n",
      "\n",
      "When -1 is passed:\n",
      "Return Value: Ruby\n",
      "Updated List: ['Python', 'Java', 'C++']\n",
      "\n",
      "When -3 is passed:\n",
      "Return Value: Python\n",
      "Updated List: ['Java', 'C++']\n"
     ]
    },
    {
     "ename": "NameError",
     "evalue": "name 'my_var' is not defined",
     "output_type": "error",
     "traceback": [
      "\u001b[1;31m---------------------------------------------------------------------------\u001b[0m",
      "\u001b[1;31mNameError\u001b[0m                                 Traceback (most recent call last)",
      "\u001b[1;32m<ipython-input-17-825199d83b5a>\u001b[0m in \u001b[0;36m<module>\u001b[1;34m\u001b[0m\n\u001b[0;32m     41\u001b[0m \u001b[1;33m\u001b[0m\u001b[0m\n\u001b[0;32m     42\u001b[0m \u001b[1;31m# Error: my_var is not defined\u001b[0m\u001b[1;33m\u001b[0m\u001b[1;33m\u001b[0m\u001b[1;33m\u001b[0m\u001b[0m\n\u001b[1;32m---> 43\u001b[1;33m \u001b[0mprint\u001b[0m\u001b[1;33m(\u001b[0m\u001b[0mmy_var\u001b[0m\u001b[1;33m)\u001b[0m\u001b[1;33m\u001b[0m\u001b[1;33m\u001b[0m\u001b[0m\n\u001b[0m\u001b[0;32m     44\u001b[0m \u001b[1;33m\u001b[0m\u001b[0m\n\u001b[0;32m     45\u001b[0m \u001b[1;31m# Error: my_tuple is not defined\u001b[0m\u001b[1;33m\u001b[0m\u001b[1;33m\u001b[0m\u001b[1;33m\u001b[0m\u001b[0m\n",
      "\u001b[1;31mNameError\u001b[0m: name 'my_var' is not defined"
     ]
    }
   ],
   "source": [
    "#If you need to delete elements based on the index (like the fourth element), you can use the pop() method.\n",
    "\n",
    "# programming languages list\n",
    "languages = ['Python', 'Java', 'C++', 'French', 'C']\n",
    "\n",
    "# remove and return the 4th item\n",
    "return_value = languages.pop(3)\n",
    "print('Return Value:', return_value)\n",
    "\n",
    "# Updated List\n",
    "print('Updated List:', languages)\n",
    "\n",
    "# when returned value is not passed and negative index\n",
    "# programming languages list\n",
    "languages = ['Python', 'Java', 'C++', 'Ruby', 'C']\n",
    "\n",
    "# remove and return the last item\n",
    "print('When index is not passed:') \n",
    "print('Return Value:', languages.pop())\n",
    "print('Updated List:', languages)\n",
    "\n",
    "# remove and return the last item\n",
    "print('\\nWhen -1 is passed:') \n",
    "print('Return Value:', languages.pop(-1))\n",
    "print('Updated List:', languages)\n",
    "\n",
    "# remove and return the third last item\n",
    "print('\\nWhen -3 is passed:') \n",
    "print('Return Value:', languages.pop(-3))\n",
    "print('Updated List:', languages)\n",
    "\n",
    "#Also, you can use the Python del statement to remove items from the list.\n",
    "\n",
    "my_var = 5\n",
    "my_tuple = ('Sam', 25)\n",
    "my_dict = {'name': 'Sam', 'age': 25}\n",
    "\n",
    "del my_var\n",
    "del my_tuple\n",
    "del my_dict\n",
    "\n",
    "# Error: my_var is not defined\n",
    "print(my_var)\n",
    "\n",
    "# Error: my_tuple is not defined\n",
    "print(my_tuple)\n",
    "\n",
    "# Error: my_dict is not defined\n",
    "print(my_dict)"
   ]
  },
  {
   "cell_type": "code",
   "execution_count": 18,
   "metadata": {},
   "outputs": [
    {
     "name": "stdout",
     "output_type": "stream",
     "text": [
      "Original List: ['Windows', 'macOS', 'Linux']\n",
      "Updated List: ['Linux', 'macOS', 'Windows']\n"
     ]
    }
   ],
   "source": [
    "# list.reverse(): The reverse() method reverses the elements of a given list.\n",
    "# Operating System List\n",
    "os = ['Windows', 'macOS', 'Linux']\n",
    "print('Original List:', os)\n",
    "\n",
    "# List Reverse\n",
    "os.reverse()\n",
    "\n",
    "# updated list\n",
    "print('Updated List:', os)"
   ]
  },
  {
   "cell_type": "code",
   "execution_count": 19,
   "metadata": {},
   "outputs": [],
   "source": [
    "# dictionary in Python: Python dictionary is an unordered collection of items. While other compound data types have only value as an element, a dictionary has a key: value pair.\n",
    "\n",
    "#Dictionaries are optimized to retrieve values when the key is known.\n",
    "# empty dictionary\n",
    "my_dict = {}\n",
    "\n",
    "# dictionary with integer keys\n",
    "my_dict = {1: 'apple', 2: 'ball'}\n",
    "\n",
    "# dictionary with mixed keys\n",
    "my_dict = {'name': 'John', 1: [2, 4, 3]}\n",
    "\n",
    "# using dict()\n",
    "my_dict = dict({1:'apple', 2:'ball'})\n",
    "\n",
    "# from sequence having each item as a pair\n",
    "my_dict = dict([(1,'apple'), (2,'ball')])"
   ]
  },
  {
   "cell_type": "code",
   "execution_count": 20,
   "metadata": {},
   "outputs": [
    {
     "name": "stdout",
     "output_type": "stream",
     "text": [
      "Jack\n",
      "26\n"
     ]
    }
   ],
   "source": [
    "# access elements from a dictionary\n",
    "my_dict = {'name':'Jack', 'age': 26}\n",
    "\n",
    "# Output: Jack\n",
    "print(my_dict['name'])\n",
    "\n",
    "# Output: 26\n",
    "print(my_dict.get('age'))\n",
    "\n",
    "# Trying to access keys which doesn't exist throws error\n",
    "# my_dict.get('address')\n",
    "# my_dict['address']"
   ]
  },
  {
   "cell_type": "code",
   "execution_count": 21,
   "metadata": {},
   "outputs": [
    {
     "name": "stdout",
     "output_type": "stream",
     "text": [
      "{'name': 'Jack', 'age': 27}\n",
      "{'name': 'Jack', 'age': 27, 'address': 'Downtown'}\n"
     ]
    }
   ],
   "source": [
    "# change or add elements in a dictionary\n",
    "my_dict = {'name':'Jack', 'age': 26}\n",
    "\n",
    "# update value\n",
    "my_dict['age'] = 27\n",
    "\n",
    "#Output: {'age': 27, 'name': 'Jack'}\n",
    "print(my_dict)\n",
    "\n",
    "# add item\n",
    "my_dict['address'] = 'Downtown'  \n",
    "\n",
    "# Output: {'address': 'Downtown', 'age': 27, 'name': 'Jack'}\n",
    "print(my_dict)\n"
   ]
  },
  {
   "cell_type": "code",
   "execution_count": 22,
   "metadata": {},
   "outputs": [
    {
     "name": "stdout",
     "output_type": "stream",
     "text": [
      "16\n",
      "{1: 1, 2: 4, 3: 9, 5: 25}\n",
      "(5, 25)\n",
      "{1: 1, 2: 4, 3: 9}\n"
     ]
    },
    {
     "ename": "KeyError",
     "evalue": "5",
     "output_type": "error",
     "traceback": [
      "\u001b[1;31m---------------------------------------------------------------------------\u001b[0m",
      "\u001b[1;31mKeyError\u001b[0m                                  Traceback (most recent call last)",
      "\u001b[1;32m<ipython-input-22-b8959702800e>\u001b[0m in \u001b[0;36m<module>\u001b[1;34m\u001b[0m\n\u001b[0;32m     16\u001b[0m \u001b[1;33m\u001b[0m\u001b[0m\n\u001b[0;32m     17\u001b[0m \u001b[1;31m# delete a particular item\u001b[0m\u001b[1;33m\u001b[0m\u001b[1;33m\u001b[0m\u001b[1;33m\u001b[0m\u001b[0m\n\u001b[1;32m---> 18\u001b[1;33m \u001b[1;32mdel\u001b[0m \u001b[0msquares\u001b[0m\u001b[1;33m[\u001b[0m\u001b[1;36m5\u001b[0m\u001b[1;33m]\u001b[0m\u001b[1;33m\u001b[0m\u001b[1;33m\u001b[0m\u001b[0m\n\u001b[0m\u001b[0;32m     19\u001b[0m \u001b[0mprint\u001b[0m\u001b[1;33m(\u001b[0m\u001b[0msquares\u001b[0m\u001b[1;33m)\u001b[0m\u001b[1;33m\u001b[0m\u001b[1;33m\u001b[0m\u001b[0m\n\u001b[0;32m     20\u001b[0m \u001b[1;33m\u001b[0m\u001b[0m\n",
      "\u001b[1;31mKeyError\u001b[0m: 5"
     ]
    }
   ],
   "source": [
    "# delete or remove elements from a dictionary\n",
    "# create a dictionary\n",
    "squares = {1:1, 2:4, 3:9, 4:16, 5:25}  \n",
    "\n",
    "# remove a particular item\n",
    "print(squares.pop(4))  \n",
    "\n",
    "# Output: {1: 1, 2: 4, 3: 9, 5: 25}\n",
    "print(squares)\n",
    "\n",
    "# remove an arbitrary item\n",
    "print(squares.popitem())\n",
    "\n",
    "# Output: {2: 4, 3: 9, 5: 25}\n",
    "print(squares)\n",
    "\n",
    "# delete a particular item\n",
    "del squares[5]  \n",
    "print(squares)\n",
    "\n",
    "# remove all items\n",
    "squares.clear()\n",
    "print(squares)\n",
    "\n",
    "# delete the dictionary itself\n",
    "del squares\n",
    "\n",
    "# Throws Error\n",
    "# print(squares)\n"
   ]
  },
  {
   "cell_type": "code",
   "execution_count": 23,
   "metadata": {},
   "outputs": [
    {
     "name": "stdout",
     "output_type": "stream",
     "text": [
      "Orignal:  {1: 'one', 2: 'two'}\n",
      "New:  {1: 'one', 2: 'two'}\n"
     ]
    }
   ],
   "source": [
    "# Copy in dict.\n",
    "original = {1:'one', 2:'two'}\n",
    "new = original.copy()\n",
    "\n",
    "print('Orignal: ', original)\n",
    "print('New: ', new)"
   ]
  },
  {
   "cell_type": "code",
   "execution_count": 24,
   "metadata": {},
   "outputs": [
    {
     "name": "stdout",
     "output_type": "stream",
     "text": [
      "Name:  Phill\n",
      "Age:  22\n",
      "Salary:  None\n",
      "Salary:  0.0\n"
     ]
    }
   ],
   "source": [
    "# working of get() in dict.\n",
    "person = {'name': 'Phill', 'age': 22}\n",
    "\n",
    "print('Name: ', person.get('name'))\n",
    "print('Age: ', person.get('age'))\n",
    "\n",
    "# value is not provided\n",
    "print('Salary: ', person.get('salary'))\n",
    "\n",
    "# value is provided\n",
    "print('Salary: ', person.get('salary', 0.0))"
   ]
  },
  {
   "cell_type": "code",
   "execution_count": 25,
   "metadata": {},
   "outputs": [
    {
     "name": "stdout",
     "output_type": "stream",
     "text": [
      "dict_items([('apple', 2), ('orange', 3), ('grapes', 4)])\n"
     ]
    }
   ],
   "source": [
    "# Get all items of a dictionary with items()\n",
    "# random sales dictionary\n",
    "sales = { 'apple': 2, 'orange': 3, 'grapes': 4 }\n",
    "\n",
    "print(sales.items())"
   ]
  },
  {
   "cell_type": "code",
   "execution_count": 26,
   "metadata": {},
   "outputs": [
    {
     "name": "stdout",
     "output_type": "stream",
     "text": [
      "Original items: dict_items([('apple', 2), ('orange', 3), ('grapes', 4)])\n",
      "Updated items: dict_items([('orange', 3), ('grapes', 4)])\n"
     ]
    }
   ],
   "source": [
    "# How items() works when a dictionary is modified?\n",
    "# random sales dictionary\n",
    "sales = { 'apple': 2, 'orange': 3, 'grapes': 4 }\n",
    "\n",
    "items = sales.items()\n",
    "print('Original items:', items)\n",
    "\n",
    "# delete an item from dictionary\n",
    "del[sales['apple']]\n",
    "print('Updated items:', items)"
   ]
  },
  {
   "cell_type": "code",
   "execution_count": 27,
   "metadata": {},
   "outputs": [
    {
     "name": "stdout",
     "output_type": "stream",
     "text": [
      "{1, 2, 3}\n",
      "{1.0, 'Hello', (1, 2, 3)}\n"
     ]
    }
   ],
   "source": [
    "# What is a set in Python?\n",
    "#       A set is an unordered collection of items. Every element is unique (no duplicates) and must be immutable (which cannot be changed).\n",
    "#\n",
    "#       However, the set itself is mutable. We can add or remove items from it.\n",
    "#\n",
    "#       Sets can be used to perform mathematical set operations like union, intersection, symmetric difference etc.\n",
    "\n",
    "# set of integers\n",
    "my_set = {1, 2, 3}\n",
    "print(my_set)\n",
    "\n",
    "# set of mixed datatypes\n",
    "my_set = {1.0, \"Hello\", (1, 2, 3)}\n",
    "print(my_set)"
   ]
  },
  {
   "cell_type": "code",
   "execution_count": 32,
   "metadata": {},
   "outputs": [
    {
     "name": "stdout",
     "output_type": "stream",
     "text": [
      "{1, 2, 3, 4}\n"
     ]
    },
    {
     "ename": "TypeError",
     "evalue": "unhashable type: 'list'",
     "output_type": "error",
     "traceback": [
      "\u001b[1;31m---------------------------------------------------------------------------\u001b[0m",
      "\u001b[1;31mTypeError\u001b[0m                                 Traceback (most recent call last)",
      "\u001b[1;32m<ipython-input-32-7187009494f5>\u001b[0m in \u001b[0;36m<module>\u001b[1;34m\u001b[0m\n\u001b[0;32m      6\u001b[0m \u001b[1;31m# set cannot have mutable items\u001b[0m\u001b[1;33m\u001b[0m\u001b[1;33m\u001b[0m\u001b[1;33m\u001b[0m\u001b[0m\n\u001b[0;32m      7\u001b[0m \u001b[1;31m# here [3, 4] is a mutable list\u001b[0m\u001b[1;33m\u001b[0m\u001b[1;33m\u001b[0m\u001b[1;33m\u001b[0m\u001b[0m\n\u001b[1;32m----> 8\u001b[1;33m \u001b[0mmy_set\u001b[0m \u001b[1;33m=\u001b[0m \u001b[1;33m{\u001b[0m\u001b[1;36m1\u001b[0m\u001b[1;33m,\u001b[0m \u001b[1;36m2\u001b[0m\u001b[1;33m,\u001b[0m\u001b[1;33m[\u001b[0m\u001b[1;36m3\u001b[0m\u001b[1;33m,\u001b[0m \u001b[1;36m4\u001b[0m\u001b[1;33m]\u001b[0m\u001b[1;33m}\u001b[0m\u001b[1;33m\u001b[0m\u001b[1;33m\u001b[0m\u001b[0m\n\u001b[0m\u001b[0;32m      9\u001b[0m \u001b[0mprint\u001b[0m\u001b[1;33m(\u001b[0m\u001b[0mmy_set\u001b[0m\u001b[1;33m)\u001b[0m\u001b[1;33m\u001b[0m\u001b[1;33m\u001b[0m\u001b[0m\n\u001b[0;32m     10\u001b[0m \u001b[1;31m# this will cause an error.\u001b[0m\u001b[1;33m\u001b[0m\u001b[1;33m\u001b[0m\u001b[1;33m\u001b[0m\u001b[0m\n",
      "\u001b[1;31mTypeError\u001b[0m: unhashable type: 'list'"
     ]
    }
   ],
   "source": [
    "# set do not have duplicates\n",
    "# Output: {1, 2, 3, 4}\n",
    "my_set = {1,2,3,4,3,2}\n",
    "print(my_set)\n",
    "\n",
    "# set cannot have mutable items\n",
    "# here [3, 4] is a mutable list\n",
    "my_set = {1, 2,[3, 4]}\n",
    "print(my_set)\n",
    "# this will cause an error.\n",
    "# TypeError: unhashable type: 'list'\n",
    "\n",
    "# we can make set from a list\n",
    "# Output: {1, 2, 3}\n",
    "my_set = set([1,2,3,2])\n",
    "print(my_set)"
   ]
  },
  {
   "cell_type": "code",
   "execution_count": 33,
   "metadata": {},
   "outputs": [
    {
     "name": "stdout",
     "output_type": "stream",
     "text": [
      "{1, 3}\n",
      "{1, 2, 3}\n",
      "{1, 2, 3, 4}\n",
      "{1, 2, 3, 4, 5, 6, 8}\n"
     ]
    }
   ],
   "source": [
    "# How to change a set in Python\n",
    "# initialize my_set\n",
    "my_set = {1,3}\n",
    "print(my_set)\n",
    "\n",
    "# if you uncomment line 9,\n",
    "# you will get an error\n",
    "# TypeError: 'set' object does not support indexing\n",
    "\n",
    "#my_set[0]\n",
    "\n",
    "# add an element\n",
    "# Output: {1, 2, 3}\n",
    "my_set.add(2)\n",
    "print(my_set)\n",
    "\n",
    "# add multiple elements\n",
    "# Output: {1, 2, 3, 4}\n",
    "my_set.update([2,3,4])\n",
    "print(my_set)\n",
    "\n",
    "# add list and set\n",
    "# Output: {1, 2, 3, 4, 5, 6, 8}\n",
    "my_set.update([4,5], {1,6,8})\n",
    "print(my_set)"
   ]
  },
  {
   "cell_type": "code",
   "execution_count": 34,
   "metadata": {},
   "outputs": [
    {
     "name": "stdout",
     "output_type": "stream",
     "text": [
      "Vowels are: {'u', 'a', 'i', 'o', 'e'}\n",
      "Vowels are: {'u', 'a', 'i', 'o', 'e'}\n",
      "Updated language set:  {'French', 'English'}\n",
      "numbers:  {1, 2, 3, 4}\n",
      "new_numbers:  {1, 2, 3, 4, '5'}\n"
     ]
    }
   ],
   "source": [
    "# set.add(elem)\n",
    "# set of vowels\n",
    "vowels = {'a', 'e', 'i', 'u'}\n",
    "\n",
    "# adding 'o'\n",
    "vowels.add('o')\n",
    "print('Vowels are:', vowels)\n",
    "\n",
    "# adding 'a' again\n",
    "vowels.add('a')\n",
    "print('Vowels are:', vowels)\n",
    "\n",
    "# set.remove(element)\n",
    "# language set\n",
    "language = {'English', 'French', 'German'}\n",
    "\n",
    "# 'German' element is removed\n",
    "language.remove('German')\n",
    "\n",
    "# Updated language set\n",
    "print('Updated language set: ', language)\n",
    "\n",
    "\n",
    "#set.copy()\n",
    "numbers = {1, 2, 3, 4}\n",
    "new_numbers = numbers.copy()\n",
    "\n",
    "new_numbers.add('5')\n",
    "\n",
    "print('numbers: ', numbers)\n",
    "print('new_numbers: ', new_numbers)"
   ]
  },
  {
   "cell_type": "code",
   "execution_count": null,
   "metadata": {},
   "outputs": [],
   "source": []
  }
 ],
 "metadata": {
  "kernelspec": {
   "display_name": "Python 3",
   "language": "python",
   "name": "python3"
  },
  "language_info": {
   "codemirror_mode": {
    "name": "ipython",
    "version": 3
   },
   "file_extension": ".py",
   "mimetype": "text/x-python",
   "name": "python",
   "nbconvert_exporter": "python",
   "pygments_lexer": "ipython3",
   "version": "3.7.3"
  }
 },
 "nbformat": 4,
 "nbformat_minor": 2
}
