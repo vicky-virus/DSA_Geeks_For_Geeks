{
 "cells": [
  {
   "cell_type": "code",
   "execution_count": 1,
   "metadata": {},
   "outputs": [],
   "source": [
    "import os\n"
   ]
  },
  {
   "cell_type": "code",
   "execution_count": 2,
   "metadata": {},
   "outputs": [
    {
     "data": {
      "text/plain": [
       "'C:\\\\Users\\\\csnir\\\\Desktop\\\\Tableau'"
      ]
     },
     "execution_count": 2,
     "metadata": {},
     "output_type": "execute_result"
    }
   ],
   "source": [
    "os.getcwd()"
   ]
  },
  {
   "cell_type": "code",
   "execution_count": null,
   "metadata": {},
   "outputs": [],
   "source": []
  },
  {
   "cell_type": "markdown",
   "metadata": {},
   "source": [
    "My Notebook\n",
    "--\n",
    ">1. small indentation\n",
    ">>1.1 Topic 1\n",
    ">2. hello\n",
    ">>2.1 Topic 2\n",
    "\n",
    "In ipynb\n",
    ">i is interective mode\n",
    "\n",
    "\n",
    ">py is python\n",
    "\n",
    "\n",
    ">nb is notebook\n"
   ]
  },
  {
   "cell_type": "code",
   "execution_count": 10,
   "metadata": {},
   "outputs": [
    {
     "name": "stdout",
     "output_type": "stream",
     "text": [
      "-----------------------------------------\n",
      "1\n",
      "2\n",
      "3\n",
      "-----------------------------------------\n",
      "Addition of a and b is: 3\n"
     ]
    }
   ],
   "source": [
    "a = 1\n",
    "b = 2 \n",
    "c =a+b\n",
    "a\n",
    "b\n",
    "c\n",
    "#this acts like script and as we want 3 outputs a, b, c but we will get only last one as output that is c=3\n",
    "\n",
    "#to get all corresponding outputs we have to use print() along with that variable\n",
    "print(\"-----------------------------------------\")\n",
    "print(a)\n",
    "print(b)\n",
    "print(c)\n",
    "print(\"-----------------------------------------\")\n",
    "print(\"Addition of a and b is:\",c)"
   ]
  },
  {
   "cell_type": "code",
   "execution_count": 12,
   "metadata": {},
   "outputs": [
    {
     "name": "stdout",
     "output_type": "stream",
     "text": [
      "<class 'int'>\n",
      "<class 'str'>\n",
      "<class 'float'>\n"
     ]
    }
   ],
   "source": [
    "a=1\n",
    "print(type(a))\n",
    "print(type(\"Hello World!\"))\n",
    "print(type(17.5))"
   ]
  },
  {
   "cell_type": "code",
   "execution_count": 18,
   "metadata": {},
   "outputs": [
    {
     "data": {
      "text/plain": [
       "complex"
      ]
     },
     "execution_count": 18,
     "metadata": {},
     "output_type": "execute_result"
    }
   ],
   "source": [
    "a = 5+89j\n",
    "type(a)"
   ]
  },
  {
   "cell_type": "code",
   "execution_count": 20,
   "metadata": {},
   "outputs": [
    {
     "data": {
      "text/plain": [
       "float"
      ]
     },
     "execution_count": 20,
     "metadata": {},
     "output_type": "execute_result"
    }
   ],
   "source": [
    "type(3.2)"
   ]
  },
  {
   "cell_type": "code",
   "execution_count": 25,
   "metadata": {},
   "outputs": [
    {
     "name": "stdout",
     "output_type": "stream",
     "text": [
      "(1, 0, 0)\n",
      "<class 'tuple'>\n",
      "[1, 0, 0]\n",
      "<class 'list'>\n",
      "(1, 0, 0)\n",
      "<class 'tuple'>\n",
      "{0, 1}\n",
      "<class 'set'>\n",
      "100000\n",
      "<class 'int'>\n"
     ]
    }
   ],
   "source": [
    "#when you type large integers, you might be tempted to use commas.\n",
    "a = 1,00,000\n",
    "print(a)\n",
    "print(type(a))\n",
    "a1 = [1,00,000]\n",
    "print(a1)\n",
    "print(type(a1))\n",
    "\n",
    "a2 = (1,00,000)\n",
    "print(a2)\n",
    "print(type(a2))\n",
    "\n",
    "\n",
    "a3 = {1,00,000}\n",
    "print(a3)\n",
    "print(type(a3))\n",
    "\n",
    "b = 100000\n",
    "print(b)\n",
    "print(type(b))"
   ]
  },
  {
   "cell_type": "code",
   "execution_count": 59,
   "metadata": {},
   "outputs": [
    {
     "name": "stdout",
     "output_type": "stream",
     "text": [
      "Hello Python\n"
     ]
    }
   ],
   "source": [
    "str1 = 'Hello Python' #string str1\n",
    "str2 = 'How are you' #string str2\n",
    "print(str1)"
   ]
  },
  {
   "cell_type": "code",
   "execution_count": 63,
   "metadata": {},
   "outputs": [
    {
     "name": "stdout",
     "output_type": "stream",
     "text": [
      "Python\n",
      " \n",
      "Python\n",
      "Pytho n\n"
     ]
    }
   ],
   "source": [
    "#slicing\n",
    "print(str1[6:])\n",
    "print(str1[5])\n",
    "print(str1[6:12])\n",
    "print(str1[-6:-1],str1[-1])"
   ]
  },
  {
   "cell_type": "markdown",
   "metadata": {},
   "source": [
    "Ques: How to print whole last word using backward slicing of a sentence.\n",
    "suppose i need to print 'python' from 'Hello python'. How to use negative or backward slicing to achieve this output. "
   ]
  },
  {
   "cell_type": "code",
   "execution_count": 66,
   "metadata": {},
   "outputs": [
    {
     "name": "stdout",
     "output_type": "stream",
     "text": [
      "hello india\n",
      "india\n"
     ]
    }
   ],
   "source": [
    "a=input().split(\" \")\n",
    "print(a[-1])"
   ]
  },
  {
   "cell_type": "code",
   "execution_count": 67,
   "metadata": {},
   "outputs": [
    {
     "data": {
      "text/plain": [
       "'\\nMulti\\nline\\ncomment\\n'"
      ]
     },
     "execution_count": 67,
     "metadata": {},
     "output_type": "execute_result"
    }
   ],
   "source": [
    "#PEDMAS\n",
    "#p: ()\n",
    "#E: exponential e.g. **\n",
    "#Divide\n",
    "#Multiplication\n",
    "#Addition\n",
    "#subtraction\n",
    "\n",
    "#single line comment.\n",
    "\"\"\"\n",
    "Multi\n",
    "line\n",
    "comment\n",
    "\"\"\""
   ]
  },
  {
   "cell_type": "code",
   "execution_count": 68,
   "metadata": {},
   "outputs": [
    {
     "data": {
      "text/plain": [
       "31.666666666666668"
      ]
     },
     "execution_count": 68,
     "metadata": {},
     "output_type": "execute_result"
    }
   ],
   "source": [
    "(1+1)**5-2/6"
   ]
  },
  {
   "cell_type": "raw",
   "metadata": {},
   "source": [
    "with string only + and * works. (not mathematical operations work on string)\n",
    "    + is concatination\n",
    "    * is repetation"
   ]
  },
  {
   "cell_type": "code",
   "execution_count": 69,
   "metadata": {},
   "outputs": [
    {
     "data": {
      "text/plain": [
       "'sdsasdsasdsa'"
      ]
     },
     "execution_count": 69,
     "metadata": {},
     "output_type": "execute_result"
    }
   ],
   "source": [
    "\"sdsa\"*3"
   ]
  },
  {
   "cell_type": "code",
   "execution_count": null,
   "metadata": {},
   "outputs": [],
   "source": []
  }
 ],
 "metadata": {
  "kernelspec": {
   "display_name": "Python 3",
   "language": "python",
   "name": "python3"
  },
  "language_info": {
   "codemirror_mode": {
    "name": "ipython",
    "version": 3
   },
   "file_extension": ".py",
   "mimetype": "text/x-python",
   "name": "python",
   "nbconvert_exporter": "python",
   "pygments_lexer": "ipython3",
   "version": "3.7.3"
  }
 },
 "nbformat": 4,
 "nbformat_minor": 2
}
