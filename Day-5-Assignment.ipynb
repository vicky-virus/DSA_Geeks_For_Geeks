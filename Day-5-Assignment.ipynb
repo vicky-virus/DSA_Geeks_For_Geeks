{
 "cells": [
  {
   "cell_type": "code",
   "execution_count": 4,
   "metadata": {},
   "outputs": [
    {
     "name": "stdout",
     "output_type": "stream",
     "text": [
      "To get sum of two no. : \n",
      "Enter your 1st Number: 15\n",
      "Enter 2nd Number: 20\n",
      "Sum is:  35\n"
     ]
    }
   ],
   "source": [
    "print(\"To get sum of two no. : \")\n",
    "var1 = int(input(\"Enter your 1st Number: \"))\n",
    "var2 = int(input(\"Enter 2nd Number: \"))\n",
    "print(\"Sum is: \",var1 + var2)"
   ]
  },
  {
   "cell_type": "code",
   "execution_count": 7,
   "metadata": {},
   "outputs": [
    {
     "name": "stdout",
     "output_type": "stream",
     "text": [
      "60.0\n",
      "4.0\n",
      "0.0\n"
     ]
    }
   ],
   "source": [
    "#avg of three number\n",
    "def avg(n1=0, n2=0, n3=0): #with default argument\n",
    "    sum = n1+n2+n3\n",
    "    print(sum/3)\n",
    "\n",
    "avg(20,89,71)\n",
    "avg(5,7)\n",
    "avg()"
   ]
  },
  {
   "cell_type": "markdown",
   "metadata": {},
   "source": [
    "**STRING**"
   ]
  },
  {
   "cell_type": "code",
   "execution_count": 8,
   "metadata": {},
   "outputs": [
    {
     "data": {
      "text/plain": [
       "str"
      ]
     },
     "execution_count": 8,
     "metadata": {},
     "output_type": "execute_result"
    }
   ],
   "source": [
    "s=\"Niraj Kumar\"\n",
    "type(s)"
   ]
  },
  {
   "cell_type": "code",
   "execution_count": 9,
   "metadata": {},
   "outputs": [
    {
     "data": {
      "text/plain": [
       "'i'"
      ]
     },
     "execution_count": 9,
     "metadata": {},
     "output_type": "execute_result"
    }
   ],
   "source": [
    "s[1]"
   ]
  },
  {
   "cell_type": "code",
   "execution_count": 10,
   "metadata": {},
   "outputs": [
    {
     "data": {
      "text/plain": [
       "'m'"
      ]
     },
     "execution_count": 10,
     "metadata": {},
     "output_type": "execute_result"
    }
   ],
   "source": [
    "s[-3]"
   ]
  },
  {
   "cell_type": "code",
   "execution_count": 11,
   "metadata": {},
   "outputs": [
    {
     "name": "stdout",
     "output_type": "stream",
     "text": [
      "iraj\n",
      "Niraj\n",
      " Kumar\n",
      "ramuK jariN\n",
      "aj Ku\n"
     ]
    }
   ],
   "source": [
    "#string slicing\n",
    "print(s[1:5])\n",
    "print(s[:5])\n",
    "print(s[5:])\n",
    "print(s[::-1]) #remember: s[::-1] isused to print string in reverse order.\n",
    "print(s[-8:-3])"
   ]
  },
  {
   "cell_type": "code",
   "execution_count": 12,
   "metadata": {},
   "outputs": [
    {
     "name": "stdout",
     "output_type": "stream",
     "text": [
      "Enter your string which you want to reverse: LetsUpgrade Python Course\n",
      "Your reversed string is:  esruoC nohtyP edargpUsteL\n"
     ]
    }
   ],
   "source": [
    "string = input(\"Enter your string which you want to reverse: \")\n",
    "print(\"Your reversed string is: \",string[::-1])"
   ]
  },
  {
   "cell_type": "code",
   "execution_count": 15,
   "metadata": {},
   "outputs": [
    {
     "name": "stdout",
     "output_type": "stream",
     "text": [
      " Hello World Machine Learning\n",
      " Hello World Hello World Hello World\n",
      " mACHINE lEARNING\n",
      " hello world\n",
      " MACHINE LEARNING\n",
      "s\n",
      "D\n",
      "False\n",
      "An apple a day keeps the doctor away \n",
      "37\n",
      "*n *pple * d*y keeps the doctor *w*y \n"
     ]
    }
   ],
   "source": [
    "#program to perform various string functions\n",
    "s1 = \" Hello World\"\n",
    "s2 = \" Machine Learning\"\n",
    "s3 = \"Darshan\"\n",
    "\n",
    "print(s1+s2)\n",
    "\n",
    "print(s1*3)\n",
    "print(s2.swapcase())\n",
    "print(s1.lower())\n",
    "print(s2.upper())\n",
    "print(max(s3)) # c works on ascii value of character whereas python has unicode for different characters.\n",
    "print(min(s3))\n",
    "print(s1.isdigit())\n",
    "s4=\"an apple a day keeps the doctor away \"\n",
    "print(s4.capitalize()) #only first character of string becomes in upper case and others are changed to lower case\n",
    "print(len(s4))\n",
    "print(s4.replace('a','*'))"
   ]
  },
  {
   "cell_type": "code",
   "execution_count": 18,
   "metadata": {},
   "outputs": [
    {
     "name": "stdout",
     "output_type": "stream",
     "text": [
      "False\n"
     ]
    },
    {
     "data": {
      "text/plain": [
       "True"
      ]
     },
     "execution_count": 18,
     "metadata": {},
     "output_type": "execute_result"
    }
   ],
   "source": [
    "# 'in' and 'not in' operator (**Membership operator)\n",
    "s = \"Machine\"\n",
    "print('z' in s)\n",
    "'M' in s\n"
   ]
  },
  {
   "cell_type": "code",
   "execution_count": 17,
   "metadata": {},
   "outputs": [
    {
     "data": {
      "text/plain": [
       "False"
      ]
     },
     "execution_count": 17,
     "metadata": {},
     "output_type": "execute_result"
    }
   ],
   "source": [
    "'M' not in s"
   ]
  },
  {
   "cell_type": "code",
   "execution_count": 31,
   "metadata": {},
   "outputs": [
    {
     "name": "stdout",
     "output_type": "stream",
     "text": [
      "N_i_r_a_j_   K_u_m_a_r_"
     ]
    }
   ],
   "source": [
    "#Traversal with for loop\n",
    "st = \"Niraj Kumar\"\n",
    "for i in st:\n",
    "    if i==\" \":\n",
    "        print(\" \",end=\"  \")\n",
    "        continue\n",
    "    print(i, end=\"_\")"
   ]
  },
  {
   "cell_type": "code",
   "execution_count": 32,
   "metadata": {},
   "outputs": [
    {
     "ename": "TypeError",
     "evalue": "'str' object does not support item assignment",
     "output_type": "error",
     "traceback": [
      "\u001b[1;31m---------------------------------------------------------------------------\u001b[0m",
      "\u001b[1;31mTypeError\u001b[0m                                 Traceback (most recent call last)",
      "\u001b[1;32m<ipython-input-32-b52adb94a683>\u001b[0m in \u001b[0;36m<module>\u001b[1;34m\u001b[0m\n\u001b[0;32m      1\u001b[0m \u001b[1;31m#Strings are immutable,means you can't change an existing string\u001b[0m\u001b[1;33m\u001b[0m\u001b[1;33m\u001b[0m\u001b[1;33m\u001b[0m\u001b[0m\n\u001b[0;32m      2\u001b[0m \u001b[0mst1\u001b[0m \u001b[1;33m=\u001b[0m \u001b[1;34m\"Darshan\"\u001b[0m\u001b[1;33m\u001b[0m\u001b[1;33m\u001b[0m\u001b[0m\n\u001b[1;32m----> 3\u001b[1;33m \u001b[0mst1\u001b[0m\u001b[1;33m[\u001b[0m\u001b[1;36m0\u001b[0m\u001b[1;33m]\u001b[0m \u001b[1;33m=\u001b[0m \u001b[1;34m\"Z\"\u001b[0m\u001b[1;33m\u001b[0m\u001b[1;33m\u001b[0m\u001b[0m\n\u001b[0m\u001b[0;32m      4\u001b[0m \u001b[0mprint\u001b[0m\u001b[1;33m(\u001b[0m\u001b[0mst1\u001b[0m\u001b[1;33m)\u001b[0m\u001b[1;33m\u001b[0m\u001b[1;33m\u001b[0m\u001b[0m\n",
      "\u001b[1;31mTypeError\u001b[0m: 'str' object does not support item assignment"
     ]
    }
   ],
   "source": [
    "#Strings are immutable,means you can't change an existing string\n",
    "st1 = \"Darshan\"\n",
    "st1[0] = \"Z\"\n",
    "print(st1)"
   ]
  },
  {
   "cell_type": "code",
   "execution_count": 39,
   "metadata": {},
   "outputs": [
    {
     "data": {
      "text/plain": [
       "17"
      ]
     },
     "execution_count": 39,
     "metadata": {},
     "output_type": "execute_result"
    }
   ],
   "source": [
    "#str.find(str,begin,end): find occurance at 1st time and return that index value\n",
    "f=\"School of Engineering\"\n",
    "f.find('r',9,20) #if charecter is not found then it will return -1."
   ]
  },
  {
   "cell_type": "code",
   "execution_count": 41,
   "metadata": {},
   "outputs": [
    {
     "name": "stdout",
     "output_type": "stream",
     "text": [
      "False\n",
      "False\n"
     ]
    }
   ],
   "source": [
    "st2=\"csnirajvicky@gmail.com\"\n",
    "print(st2.isalpha())\n",
    "print(st2.isdigit())"
   ]
  },
  {
   "cell_type": "code",
   "execution_count": 48,
   "metadata": {},
   "outputs": [
    {
     "name": "stdout",
     "output_type": "stream",
     "text": [
      "To Check String is palindrome, Enter your string: \n",
      "1212121\n",
      "1212121  is a palindrome.\n"
     ]
    }
   ],
   "source": [
    "#palindrome\n",
    "user_input = input(\"To Check String is palindrome, Enter your string: \\n\")\n",
    "x=user_input.lower()\n",
    "reversed_output = x[::-1]\n",
    "if reversed_output==x:\n",
    "    print(user_input,\" is a palindrome.\")\n",
    "else:\n",
    "    print(user_input,\" is not palindrome.\")"
   ]
  },
  {
   "cell_type": "markdown",
   "metadata": {},
   "source": [
    "Here Darshan is pointed at some memory location by st3 and as we use replace function it changes its pointing memory location to another location with replaced string however original strings exists till yet and not pointed by any variable to that original string location so that that location becomes orphan and permanently deleted by garbage collector of python."
   ]
  },
  {
   "cell_type": "code",
   "execution_count": 50,
   "metadata": {},
   "outputs": [
    {
     "name": "stdout",
     "output_type": "stream",
     "text": [
      "Yarshan\n"
     ]
    }
   ],
   "source": [
    "#how replace function works when we know that strings are immutable in nature?\n",
    "st3=\"Darshan\"\n",
    "#st3[0]='Y' #it will throw error\n",
    "#expected output is Yarshan\n",
    "st4 = 'Y'+st3[1:]\n",
    "print(st4)"
   ]
  },
  {
   "cell_type": "code",
   "execution_count": 53,
   "metadata": {},
   "outputs": [
    {
     "name": "stdout",
     "output_type": "stream",
     "text": [
      "[1, 30.14, 'Corona Virus']\n",
      "a\n",
      "d\n",
      "e\n",
      "False\n",
      "True\n"
     ]
    }
   ],
   "source": [
    "#List:collections of variables (can be different data type) enclosed in square braces.\n",
    "st = [1, 30.14, \"Corona Virus\"]\n",
    "print(st)\n",
    "type(st)\n",
    "#list supports indexing.\n",
    "st6 = ['a', 'b', 'c', 'd', 'e']\n",
    "print(st6[0])\n",
    "print(st6[3])\n",
    "print(st6[-1])\n",
    "print('A' in st6)\n",
    "print('a' in st6)"
   ]
  },
  {
   "cell_type": "markdown",
   "metadata": {},
   "source": [
    "lists are mutable. It means we can change an item in a list by accessing it as a part of the assignment statement"
   ]
  },
  {
   "cell_type": "code",
   "execution_count": 55,
   "metadata": {},
   "outputs": [
    {
     "name": "stdout",
     "output_type": "stream",
     "text": [
      "['A', 'B', 'C', 'D', 'E']\n",
      "\n",
      "['A', 'B', 88, 'D', 'E']\n"
     ]
    }
   ],
   "source": [
    "st7= ['A','B','C','D','E']\n",
    "print(st7)\n",
    "print()\n",
    "st7[2] = 88\n",
    "print(st7)"
   ]
  },
  {
   "cell_type": "code",
   "execution_count": 56,
   "metadata": {},
   "outputs": [
    {
     "data": {
      "text/plain": [
       "True"
      ]
     },
     "execution_count": 56,
     "metadata": {},
     "output_type": "execute_result"
    }
   ],
   "source": [
    "'B' in st7"
   ]
  },
  {
   "cell_type": "code",
   "execution_count": 57,
   "metadata": {},
   "outputs": [
    {
     "data": {
      "text/plain": [
       "False"
      ]
     },
     "execution_count": 57,
     "metadata": {},
     "output_type": "execute_result"
    }
   ],
   "source": [
    "'C' in st7"
   ]
  },
  {
   "cell_type": "code",
   "execution_count": 65,
   "metadata": {},
   "outputs": [
    {
     "name": "stdout",
     "output_type": "stream",
     "text": [
      "K\n"
     ]
    }
   ],
   "source": [
    "#List of Lists\n",
    "list_ = [1,2,[100,200,300],22.4,\"niraj\",[99,100,[44,55,\"Kumar\"]],76]\n",
    "print(list_[-2][-1][-1][0])\n",
    "\n"
   ]
  },
  {
   "cell_type": "code",
   "execution_count": 66,
   "metadata": {},
   "outputs": [
    {
     "name": "stdout",
     "output_type": "stream",
     "text": [
      "[1, [100, 200, 300], 22.4, 'niraj', [99, 100, [44, 55, 'Kumar']], 76]\n"
     ]
    }
   ],
   "source": [
    "list_.remove(2)\n",
    "print(list_)"
   ]
  },
  {
   "cell_type": "code",
   "execution_count": 67,
   "metadata": {},
   "outputs": [
    {
     "name": "stdout",
     "output_type": "stream",
     "text": [
      "[1, [100, 200, 300], 22.4, [99, 100, [44, 55, 'Kumar']], 76]\n"
     ]
    }
   ],
   "source": [
    "del list_[3]\n",
    "\n",
    "print(list_)"
   ]
  },
  {
   "cell_type": "code",
   "execution_count": 68,
   "metadata": {},
   "outputs": [
    {
     "data": {
      "text/plain": [
       "[1, 2, 3, 4, 99, 88, 77, 66]"
      ]
     },
     "execution_count": 68,
     "metadata": {},
     "output_type": "execute_result"
    }
   ],
   "source": [
    "#concatenation\n",
    "l1=[1,2,3,4]\n",
    "l2=[99,88,77,66]\n",
    "l1+l2"
   ]
  },
  {
   "cell_type": "markdown",
   "metadata": {},
   "source": [
    "**Traversing a list**"
   ]
  },
  {
   "cell_type": "code",
   "execution_count": 69,
   "metadata": {},
   "outputs": [
    {
     "name": "stdout",
     "output_type": "stream",
     "text": [
      "Niraj\n",
      "Software Developer\n",
      "Machine learning and Deep learning\n"
     ]
    }
   ],
   "source": [
    "names=[\"Niraj\",\"Software Developer\",\"Machine learning and Deep learning\"]\n",
    "for i in names:\n",
    "    print(i)"
   ]
  },
  {
   "cell_type": "code",
   "execution_count": 70,
   "metadata": {},
   "outputs": [
    {
     "data": {
      "text/plain": [
       "44"
      ]
     },
     "execution_count": 70,
     "metadata": {},
     "output_type": "execute_result"
    }
   ],
   "source": [
    "#pop Method\n",
    "\n",
    "s=[1,2,3,4,5,6,7,8,9,55,44]\n",
    "s.pop()\n"
   ]
  },
  {
   "cell_type": "code",
   "execution_count": 71,
   "metadata": {},
   "outputs": [
    {
     "name": "stdout",
     "output_type": "stream",
     "text": [
      "[1, 2, 3, 4, 5, 6, 7, 8, 9, 55]\n"
     ]
    }
   ],
   "source": [
    "print(s)"
   ]
  },
  {
   "cell_type": "code",
   "execution_count": 72,
   "metadata": {},
   "outputs": [
    {
     "data": {
      "text/plain": [
       "4"
      ]
     },
     "execution_count": 72,
     "metadata": {},
     "output_type": "execute_result"
    }
   ],
   "source": [
    "s.pop(3)"
   ]
  },
  {
   "cell_type": "code",
   "execution_count": 73,
   "metadata": {},
   "outputs": [
    {
     "name": "stdout",
     "output_type": "stream",
     "text": [
      "[1, 2, 3, 5, 6, 7, 8, 9, 55]\n"
     ]
    }
   ],
   "source": [
    "print(s)"
   ]
  },
  {
   "cell_type": "code",
   "execution_count": 75,
   "metadata": {},
   "outputs": [
    {
     "name": "stdout",
     "output_type": "stream",
     "text": [
      "[3, 2, 1, 5, 4]\n",
      "[3, 2, 1, 5, 4]\n",
      "1\n",
      "5\n",
      "[3, 2, 999, 1, 5, 4]\n",
      "[3, 2, 999, 1, 5, 4, 777]\n",
      "[1, 2, 3, 4, 5, 777, 999]\n",
      "[999, 777, 5, 4, 3, 2, 1]\n",
      "[]\n"
     ]
    }
   ],
   "source": [
    "l1=[3,2,1,5,4]\n",
    "print(l1)\n",
    "print(l1[:])\n",
    "print(min(l1))\n",
    "print(max(l1))\n",
    "l1.insert(2,999)\n",
    "print(l1)\n",
    "l1.append(777) #every thing attached in last\n",
    "print(l1)\n",
    "l1.sort()\n",
    "print(l1)\n",
    "l1.reverse()\n",
    "print(l1)\n",
    "l1.clear()\n",
    "print(l1)\n"
   ]
  },
  {
   "cell_type": "code",
   "execution_count": 76,
   "metadata": {},
   "outputs": [
    {
     "data": {
      "text/plain": [
       "[0, 0, 0, 0, 0]"
      ]
     },
     "execution_count": 76,
     "metadata": {},
     "output_type": "execute_result"
    }
   ],
   "source": [
    "# * means repetition\n",
    "[0]*5"
   ]
  },
  {
   "cell_type": "code",
   "execution_count": 77,
   "metadata": {},
   "outputs": [
    {
     "data": {
      "text/plain": [
       "[1, 'lets Upgrade', 5, 1, 'lets Upgrade', 5, 1, 'lets Upgrade', 5]"
      ]
     },
     "execution_count": 77,
     "metadata": {},
     "output_type": "execute_result"
    }
   ],
   "source": [
    "[1, \"lets Upgrade\", 5]*3"
   ]
  },
  {
   "cell_type": "markdown",
   "metadata": {},
   "source": [
    "**Tuples**\n",
    ">Tuple is similar to a list but it is immutable in nature.\n",
    "\n",
    ">each elements or value inside the tuple is called an item.\n",
    "\n",
    ">it is defined inside small braces.\n"
   ]
  },
  {
   "cell_type": "code",
   "execution_count": 1,
   "metadata": {},
   "outputs": [
    {
     "name": "stdout",
     "output_type": "stream",
     "text": [
      "('y', 'v', 'angle')\n",
      "<class 'tuple'>\n",
      "\n",
      "()\n",
      "<class 'tuple'>\n"
     ]
    }
   ],
   "source": [
    "tup = ('y', 'v','angle')\n",
    "t=()\n",
    "print(tup)\n",
    "print(type(tup))\n",
    "print()\n",
    "print(t)\n",
    "print(type(t))"
   ]
  },
  {
   "cell_type": "code",
   "execution_count": null,
   "metadata": {},
   "outputs": [],
   "source": []
  }
 ],
 "metadata": {
  "kernelspec": {
   "display_name": "Python 3",
   "language": "python",
   "name": "python3"
  },
  "language_info": {
   "codemirror_mode": {
    "name": "ipython",
    "version": 3
   },
   "file_extension": ".py",
   "mimetype": "text/x-python",
   "name": "python",
   "nbconvert_exporter": "python",
   "pygments_lexer": "ipython3",
   "version": "3.7.3"
  }
 },
 "nbformat": 4,
 "nbformat_minor": 2
}
