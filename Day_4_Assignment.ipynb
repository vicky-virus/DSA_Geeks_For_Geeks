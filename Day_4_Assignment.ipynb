{
 "cells": [
  {
   "cell_type": "code",
   "execution_count": 1,
   "metadata": {},
   "outputs": [
    {
     "name": "stdout",
     "output_type": "stream",
     "text": [
      "Enter the elements of list: 1\n",
      "Enter the elements of list: 2\n",
      "Enter the elements of list: 5\n",
      "Enter the elements of list: 5\n",
      "Enter the elements of list: 4\n",
      "Enter the elements of list: 1\n",
      "Enter the elements of list: 5\n",
      "Enter the elements of list: 4\n",
      "[1, 2, 5, 5, 4, 1, 5, 4]\n",
      "8\n",
      "It is a Match\n"
     ]
    }
   ],
   "source": [
    "x=[1,1,5]\n",
    "list1=[]\n",
    "for i in range(0,8):\n",
    "    y=int(input(\"Enter the elements of list: \"))\n",
    "    list1.append(y)\n",
    "print(list1)\n",
    "print(len(list1))\n",
    "k = 0\n",
    "z = 0\n",
    "for j in range(0,8):\n",
    "    if(z<3):\n",
    "        if list1[j]==x[k]:\n",
    "            k=k+1\n",
    "            z=z+1\n",
    "if k==3:\n",
    "    print(\"It is a Match\")\n",
    "else:\n",
    "    print(\"It is gone!\")"
   ]
  },
  {
   "cell_type": "code",
   "execution_count": null,
   "metadata": {},
   "outputs": [],
   "source": []
  }
 ],
 "metadata": {
  "kernelspec": {
   "display_name": "Python 3",
   "language": "python",
   "name": "python3"
  },
  "language_info": {
   "codemirror_mode": {
    "name": "ipython",
    "version": 3
   },
   "file_extension": ".py",
   "mimetype": "text/x-python",
   "name": "python",
   "nbconvert_exporter": "python",
   "pygments_lexer": "ipython3",
   "version": "3.7.3"
  }
 },
 "nbformat": 4,
 "nbformat_minor": 2
}
