{
 "cells": [
  {
   "cell_type": "markdown",
   "metadata": {},
   "source": [
    "# Assignment Ques. 1"
   ]
  },
  {
   "cell_type": "code",
   "execution_count": 2,
   "metadata": {},
   "outputs": [
    {
     "name": "stdout",
     "output_type": "stream",
     "text": [
      "Enter +ve integer: 123456789\n",
      "9\n"
     ]
    }
   ],
   "source": [
    "\n",
    "n = int(input(\"Enter +ve integer: \"))\n",
    "def add_digits(n):\n",
    "        return (n - 1) % 9 + 1 if n > 0 else 0\n",
    "print(add_digits(n))   "
   ]
  },
  {
   "cell_type": "markdown",
   "metadata": {},
   "source": [
    "# MAP ()"
   ]
  },
  {
   "cell_type": "code",
   "execution_count": null,
   "metadata": {},
   "outputs": [],
   "source": [
    "#without map function\n",
    "def sqr(a):\n",
    "    return a*a\n",
    "x = sqr(5)\n",
    "print(x)"
   ]
  },
  {
   "cell_type": "code",
   "execution_count": 3,
   "metadata": {},
   "outputs": [
    {
     "name": "stdout",
     "output_type": "stream",
     "text": [
      "<map object at 0x0000028F03CE8E10>\n",
      "[1, 4, 9, 16, 25]\n"
     ]
    }
   ],
   "source": [
    "#map(function, iterable)\n",
    "\n",
    "def sqr(a):\n",
    "    return a*a\n",
    "x = map(sqr,[1,2,3,4,5]) #x is map object\n",
    "print(x)\n",
    "print(list(x))\n",
    "#print(tuple(x))\n",
    "#print(set(x))"
   ]
  },
  {
   "cell_type": "code",
   "execution_count": 4,
   "metadata": {},
   "outputs": [
    {
     "name": "stdout",
     "output_type": "stream",
     "text": [
      "[-1, 0, 1, 2]\n",
      "<class 'map'>\n"
     ]
    }
   ],
   "source": [
    "def diff(a,b):\n",
    "    return a-b\n",
    "print(list(map(diff,[1,2,3,4,5], [2,2,2,2] )))\n",
    "#print(x)\n",
    "print(type(x))\n",
    "#print(list(x))\n",
    "#print(tuple(x))\n",
    "#print(set(x))"
   ]
  },
  {
   "cell_type": "markdown",
   "metadata": {},
   "source": [
    "# Lambda Function\n",
    ">> ('lambda' is not aname, it's a keyword)\n",
    "\n",
    ">They are the functions that do not have any name.\n",
    "\n",
    ">we also call them as anonymous or nameless functions.\n",
    "\n",
    ">They are generally provided as input to other functions.\n",
    "\n",
    ">Lambda functions are single line functions. Therefore we have to provide the expression along with the function itself."
   ]
  },
  {
   "cell_type": "code",
   "execution_count": 5,
   "metadata": {},
   "outputs": [
    {
     "data": {
      "text/plain": [
       "25"
      ]
     },
     "execution_count": 5,
     "metadata": {},
     "output_type": "execute_result"
    }
   ],
   "source": [
    "#Syntax\n",
    "#lambda arguments: expression\n",
    "\n",
    "#without lambda function\n",
    "def sqr(a):\n",
    "    return a*a\n",
    "sqr(5)\n"
   ]
  },
  {
   "cell_type": "code",
   "execution_count": 6,
   "metadata": {},
   "outputs": [
    {
     "data": {
      "text/plain": [
       "25"
      ]
     },
     "execution_count": 6,
     "metadata": {},
     "output_type": "execute_result"
    }
   ],
   "source": [
    "#with lambda function\n",
    "x = lambda a: a*a\n",
    "x(5)"
   ]
  },
  {
   "cell_type": "code",
   "execution_count": 7,
   "metadata": {},
   "outputs": [
    {
     "name": "stdout",
     "output_type": "stream",
     "text": [
      "<function abc.<locals>.<lambda> at 0x0000028F03CDF488>\n",
      "9\n"
     ]
    }
   ],
   "source": [
    "#lambda within user defined functions\n",
    "def abc(x):\n",
    "    return lambda y: x+y\n",
    "t = abc(4)\n",
    "print(t)\n",
    "print(t(5))"
   ]
  },
  {
   "cell_type": "code",
   "execution_count": 8,
   "metadata": {},
   "outputs": [
    {
     "data": {
      "text/plain": [
       "30"
      ]
     },
     "execution_count": 8,
     "metadata": {},
     "output_type": "execute_result"
    }
   ],
   "source": [
    "#Solving algebraic exp. using lambda\n",
    "#linear eq.\n",
    "z= lambda x,y:5*x+3*y\n",
    "z(3,5)"
   ]
  },
  {
   "cell_type": "code",
   "execution_count": 12,
   "metadata": {},
   "outputs": [
    {
     "data": {
      "text/plain": [
       "[4, 5, 6, 7]"
      ]
     },
     "execution_count": 12,
     "metadata": {},
     "output_type": "execute_result"
    }
   ],
   "source": [
    "#lambda with map fun.\n",
    "list1 = [1,2,3,4]\n",
    "list(map( lambda x: x+3, list1))"
   ]
  },
  {
   "cell_type": "markdown",
   "metadata": {},
   "source": [
    "# filter()\n",
    ">It is used to filter the given iterables with the help of another function passed as an argument to test all the elements to be true or false.\n",
    "\n",
    "### SYNTAX\n",
    ">filter(function, iterables)"
   ]
  },
  {
   "cell_type": "code",
   "execution_count": 13,
   "metadata": {},
   "outputs": [
    {
     "name": "stdout",
     "output_type": "stream",
     "text": [
      "<filter object at 0x0000028F04161D68>\n",
      "<class 'filter'>\n",
      "[3, 4]\n"
     ]
    }
   ],
   "source": [
    "def sqr(a):\n",
    "    if a>=3:\n",
    "        return a\n",
    "x=filter(sqr, [1,2,3,4])\n",
    "\n",
    "print(x)\n",
    "print(type(x))\n",
    "print(list(x))"
   ]
  },
  {
   "cell_type": "code",
   "execution_count": 14,
   "metadata": {},
   "outputs": [
    {
     "name": "stdout",
     "output_type": "stream",
     "text": [
      "[3, 4]\n"
     ]
    }
   ],
   "source": [
    "l = [1,2,3,4]\n",
    "sqr = filter( lambda x: x>=3, l)\n",
    "print(list(sqr))"
   ]
  },
  {
   "cell_type": "markdown",
   "metadata": {},
   "source": [
    "# reduce()\n",
    ">It applies some other function to a list that are passed as aparameter to it and finally return a single value.\n",
    "\n",
    "### SYNTAX\n",
    ">reduce(function, iterables)"
   ]
  },
  {
   "cell_type": "code",
   "execution_count": 16,
   "metadata": {},
   "outputs": [
    {
     "name": "stdout",
     "output_type": "stream",
     "text": [
      "10\n"
     ]
    }
   ],
   "source": [
    "from functools import reduce #required here\n",
    "\n",
    "def sum1(a,b):\n",
    "    return a+b\n",
    "x = reduce(sum1, [1,2,3,4]) #initially a=0 and b=[1,2,3,4]\n",
    "print(x)\n"
   ]
  },
  {
   "cell_type": "code",
   "execution_count": 21,
   "metadata": {},
   "outputs": [
    {
     "name": "stdout",
     "output_type": "stream",
     "text": [
      "120\n"
     ]
    }
   ],
   "source": [
    "z=reduce( lambda a,b: a*b, [1,2,3,4,5])\n",
    "#print(a)\n",
    "#print(b)\n",
    "print(z)\n"
   ]
  },
  {
   "cell_type": "code",
   "execution_count": 18,
   "metadata": {},
   "outputs": [
    {
     "name": "stdout",
     "output_type": "stream",
     "text": [
      "<map object at 0x0000028F0426F860>\n",
      "[6, 8]\n"
     ]
    }
   ],
   "source": [
    "x = map(lambda x:x+x, filter(lambda x:x>=3, [1,2,3,4]))\n",
    "print(x)\n",
    "print(list(x))"
   ]
  },
  {
   "cell_type": "code",
   "execution_count": 24,
   "metadata": {},
   "outputs": [
    {
     "name": "stdout",
     "output_type": "stream",
     "text": [
      "<filter object at 0x0000028F04311780>\n",
      "[4, 5, 6, 7]\n",
      "<filter object at 0x0000028F04311438>\n",
      "(7,)\n"
     ]
    }
   ],
   "source": [
    "x = filter(lambda x: x>=3, map(lambda x:x+3, [1,2,3,4]))\n",
    "\n",
    "a = filter(lambda a: a>6, map(lambda a:a+3, [4,3,2,1]))\n",
    "print(x)\n",
    "print(list(x))\n",
    "\n",
    "print(a)\n",
    "print(tuple(a))\n",
    "#print(tuple(x))"
   ]
  },
  {
   "cell_type": "code",
   "execution_count": 25,
   "metadata": {},
   "outputs": [
    {
     "name": "stdout",
     "output_type": "stream",
     "text": [
      "14\n"
     ]
    }
   ],
   "source": [
    "x = reduce(lambda x,y:x+y, map(lambda x:x+x, filter(lambda x:x>=3, (1,2,3,4))))\n",
    "print(x)"
   ]
  },
  {
   "cell_type": "code",
   "execution_count": null,
   "metadata": {},
   "outputs": [],
   "source": []
  }
 ],
 "metadata": {
  "kernelspec": {
   "display_name": "Python 3",
   "language": "python",
   "name": "python3"
  },
  "language_info": {
   "codemirror_mode": {
    "name": "ipython",
    "version": 3
   },
   "file_extension": ".py",
   "mimetype": "text/x-python",
   "name": "python",
   "nbconvert_exporter": "python",
   "pygments_lexer": "ipython3",
   "version": "3.7.3"
  }
 },
 "nbformat": 4,
 "nbformat_minor": 2
}
