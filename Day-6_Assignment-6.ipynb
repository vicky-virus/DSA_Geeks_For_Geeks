{
 "cells": [
  {
   "cell_type": "code",
   "execution_count": 1,
   "metadata": {},
   "outputs": [
    {
     "name": "stdout",
     "output_type": "stream",
     "text": [
      "Enter your string: DRINKEATCODE drinkeatcode g\n",
      "13\n"
     ]
    }
   ],
   "source": [
    "list1 = ['A','B','D','O','P','Q','R','a','b','d','e','g','o','p','q']\n",
    "#list2 = ['B','g']\n",
    "holes = 0\n",
    "user_entry = input(\"Enter your string: \")\n",
    "for items in user_entry:\n",
    "    if(items in list1):\n",
    "        if(items=='B' or items=='g'):\n",
    "            holes = holes+2\n",
    "            #print(items, holes)\n",
    "        else:\n",
    "            holes=holes+1\n",
    "            #print(items, holes)\n",
    "            \n",
    "print(holes)\n",
    "    "
   ]
  },
  {
   "cell_type": "markdown",
   "metadata": {},
   "source": [
    "# MAP()\n",
    ">It applies the given function to all iterables and return a new list\n",
    "### Syntax\n",
    ">map(function,iterables)"
   ]
  },
  {
   "cell_type": "code",
   "execution_count": 2,
   "metadata": {},
   "outputs": [
    {
     "name": "stdout",
     "output_type": "stream",
     "text": [
      "25\n"
     ]
    }
   ],
   "source": [
    "#without map function\n",
    "def sqr(a):\n",
    "    return a*a\n",
    "x = sqr(5)\n",
    "print(x)"
   ]
  },
  {
   "cell_type": "code",
   "execution_count": 8,
   "metadata": {},
   "outputs": [
    {
     "name": "stdout",
     "output_type": "stream",
     "text": [
      "<map object at 0x0000025E40843630>\n",
      "{1, 4, 9, 16, 25}\n"
     ]
    }
   ],
   "source": [
    "def sqr(a):\n",
    "    return a*a\n",
    "x = map(sqr,[1,2,3,4,5]) #x is map object\n",
    "print(x)\n",
    "#print(list(x))\n",
    "#print(tuple(x))\n",
    "print(set(x))"
   ]
  },
  {
   "cell_type": "code",
   "execution_count": 11,
   "metadata": {},
   "outputs": [
    {
     "name": "stdout",
     "output_type": "stream",
     "text": [
      "[-1, 0, 1, 2]\n",
      "<class 'map'>\n"
     ]
    }
   ],
   "source": [
    "def diff(a,b):\n",
    "    return a-b\n",
    "print(list(map(diff,[1,2,3,4,5], [2,2,2,2] )))\n",
    "#print(x)\n",
    "print(type(x))\n",
    "#print(list(x))\n",
    "#print(tuple(x))\n",
    "#print(set(x))"
   ]
  },
  {
   "cell_type": "markdown",
   "metadata": {},
   "source": [
    "# Lambda Function\n",
    ">> ('lambda' is not aname, it's a keyword)\n",
    "\n",
    ">They are the functions that do not have any name.\n",
    "\n",
    ">we also call them as anonymous or nameless functions.\n",
    "\n",
    ">They are generally provided as input to other functions.\n",
    "\n",
    ">Lambda functions are single line functions. Therefore we have to provide the expression along with the function itself."
   ]
  },
  {
   "cell_type": "code",
   "execution_count": 12,
   "metadata": {},
   "outputs": [
    {
     "data": {
      "text/plain": [
       "25"
      ]
     },
     "execution_count": 12,
     "metadata": {},
     "output_type": "execute_result"
    }
   ],
   "source": [
    "#Syntax\n",
    "#lambda arguments: expression\n",
    "\n",
    "#without lambda function\n",
    "def sqr(a):\n",
    "    return a*a\n",
    "sqr(5)\n"
   ]
  },
  {
   "cell_type": "code",
   "execution_count": 13,
   "metadata": {},
   "outputs": [
    {
     "data": {
      "text/plain": [
       "25"
      ]
     },
     "execution_count": 13,
     "metadata": {},
     "output_type": "execute_result"
    }
   ],
   "source": [
    "#with lambda function\n",
    "x = lambda a: a*a\n",
    "x(5)"
   ]
  },
  {
   "cell_type": "code",
   "execution_count": 14,
   "metadata": {},
   "outputs": [
    {
     "name": "stdout",
     "output_type": "stream",
     "text": [
      "<function abc.<locals>.<lambda> at 0x0000025E408D4268>\n",
      "9\n"
     ]
    }
   ],
   "source": [
    "#lambda within user defined functions\n",
    "def abc(x):\n",
    "    return lambda y: x+y\n",
    "t = abc(4)\n",
    "print(t)\n",
    "print(t(5))"
   ]
  },
  {
   "cell_type": "code",
   "execution_count": null,
   "metadata": {},
   "outputs": [],
   "source": []
  }
 ],
 "metadata": {
  "kernelspec": {
   "display_name": "Python 3",
   "language": "python",
   "name": "python3"
  },
  "language_info": {
   "codemirror_mode": {
    "name": "ipython",
    "version": 3
   },
   "file_extension": ".py",
   "mimetype": "text/x-python",
   "name": "python",
   "nbconvert_exporter": "python",
   "pygments_lexer": "ipython3",
   "version": "3.7.3"
  }
 },
 "nbformat": 4,
 "nbformat_minor": 2
}
